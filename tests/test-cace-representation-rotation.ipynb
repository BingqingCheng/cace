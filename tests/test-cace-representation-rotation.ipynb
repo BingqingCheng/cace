{
 "cells": [
  {
   "cell_type": "code",
   "execution_count": 232,
   "id": "b701efe4",
   "metadata": {},
   "outputs": [
    {
     "name": "stdout",
     "output_type": "stream",
     "text": [
      "The autoreload extension is already loaded. To reload it, use:\n",
      "  %reload_ext autoreload\n"
     ]
    }
   ],
   "source": [
    "%load_ext autoreload\n",
    "%autoreload 2"
   ]
  },
  {
   "cell_type": "code",
   "execution_count": 233,
   "id": "a59860b2",
   "metadata": {},
   "outputs": [],
   "source": [
    "import os\n",
    "os.environ['KMP_DUPLICATE_LIB_OK']='True'"
   ]
  },
  {
   "cell_type": "code",
   "execution_count": 234,
   "id": "72321d08",
   "metadata": {},
   "outputs": [],
   "source": [
    "import numpy as np\n",
    "import torch\n",
    "import torch.nn as nn"
   ]
  },
  {
   "cell_type": "code",
   "execution_count": 235,
   "id": "6bdcc722",
   "metadata": {},
   "outputs": [],
   "source": [
    "import cace\n",
    "from cace import data"
   ]
  },
  {
   "cell_type": "code",
   "execution_count": 236,
   "id": "ac4e0761",
   "metadata": {},
   "outputs": [],
   "source": [
    "from scipy.spatial.transform import Rotation as R"
   ]
  },
  {
   "cell_type": "code",
   "execution_count": 237,
   "id": "78ee2d94",
   "metadata": {},
   "outputs": [],
   "source": [
    "torch.set_default_dtype(torch.float32)"
   ]
  },
  {
   "cell_type": "code",
   "execution_count": 238,
   "id": "4553f8c3",
   "metadata": {},
   "outputs": [],
   "source": [
    "config = data.Configuration(\n",
    "    atomic_numbers=np.array([8, 1, 1]),\n",
    "    positions=np.array(\n",
    "        [\n",
    "            [0.0452, -2.02, 0.0452],\n",
    "            [1.0145, 0.034, 0.0232],\n",
    "            [0.0111, 1.041, -0.010],\n",
    "        ]\n",
    "    ),\n",
    "    forces=np.array(\n",
    "        [\n",
    "            [0.0, -1.3, 0.0],\n",
    "            [1.0, 0.2, 0.0],\n",
    "            [0.0, 1.1, 0.3],\n",
    "        ]\n",
    "    ),\n",
    "    energy=-1.5,\n",
    "    charges=np.array([-2.0, 1.0, 1.0]),\n",
    "    dipole=np.array([-1.5, 1.5, 2.0]),\n",
    ")\n",
    "# Created the rotated environment\n",
    "rot = R.from_euler(\"z\", 70, degrees=True).as_matrix()\n",
    "positions_rotated = np.array(rot @ config.positions.T).T\n",
    "\n",
    "rot = R.from_euler(\"x\", 10.6, degrees=True).as_matrix()\n",
    "positions_rotated = np.array(rot @ positions_rotated.T).T\n",
    "\n",
    "rot = R.from_euler(\"y\", 190, degrees=True).as_matrix()\n",
    "positions_rotated = np.array(rot @ positions_rotated.T).T\n",
    "\n",
    "config_rotated = data.Configuration(\n",
    "    atomic_numbers=np.array([8, 1, 1]),\n",
    "    positions=positions_rotated,\n",
    "    forces=np.array(\n",
    "        [\n",
    "            [0.0, -1.3, 0.0],\n",
    "            [1.0, 0.2, 0.0],\n",
    "            [0.0, 1.1, 0.3],\n",
    "        ]\n",
    "    ),\n",
    "    energy=-1.5,\n",
    "    charges=np.array([-2.0, 1.0, 1.0]),\n",
    "    dipole=np.array([-1.5, 1.5, 2.0]),\n",
    ")\n"
   ]
  },
  {
   "cell_type": "code",
   "execution_count": 239,
   "id": "af9de606",
   "metadata": {},
   "outputs": [],
   "source": [
    "cutoff = 5.0"
   ]
  },
  {
   "cell_type": "code",
   "execution_count": 240,
   "id": "78e2cedb",
   "metadata": {},
   "outputs": [],
   "source": [
    "atomic_data = data.AtomicData.from_config(config, cutoff=cutoff)\n",
    "atomic_data2 = data.AtomicData.from_config(config_rotated, cutoff=cutoff)"
   ]
  },
  {
   "cell_type": "code",
   "execution_count": 241,
   "id": "ac9cb3cf",
   "metadata": {},
   "outputs": [
    {
     "data": {
      "text/plain": [
       "tensor([[ 0.0452, -2.0200,  0.0452],\n",
       "        [ 1.0145,  0.0340,  0.0232],\n",
       "        [ 0.0111,  1.0410, -0.0100]])"
      ]
     },
     "execution_count": 241,
     "metadata": {},
     "output_type": "execute_result"
    }
   ],
   "source": [
    "atomic_data.positions"
   ]
  },
  {
   "cell_type": "code",
   "execution_count": 242,
   "id": "4dd23cfc",
   "metadata": {},
   "outputs": [
    {
     "data": {
      "text/plain": [
       "tensor([[-1.8716, -0.6457,  0.4060],\n",
       "        [-0.3450,  0.9442, -0.1426],\n",
       "        [ 0.9496,  0.3621, -0.2259]])"
      ]
     },
     "execution_count": 242,
     "metadata": {},
     "output_type": "execute_result"
    }
   ],
   "source": [
    "atomic_data2.positions"
   ]
  },
  {
   "cell_type": "code",
   "execution_count": 243,
   "id": "16db5cf4",
   "metadata": {},
   "outputs": [],
   "source": [
    "from cace.representations.cace_representation import Cace"
   ]
  },
  {
   "cell_type": "code",
   "execution_count": 244,
   "id": "fc46f68b",
   "metadata": {},
   "outputs": [
    {
     "data": {
      "text/plain": [
       "AtomicData(edge_index=[2, 6], num_nodes=3, positions=[3, 3], shifts=[6, 3], unit_shifts=[6, 3], cell=[3, 3], atomic_numbers=[3], weight=1.0, energy_weight=1.0, forces_weight=1.0, stress_weight=1.0, virials_weight=1.0, forces=[3, 3], energy=-1.5, dipole=[1, 3], charges=[3])"
      ]
     },
     "execution_count": 244,
     "metadata": {},
     "output_type": "execute_result"
    }
   ],
   "source": [
    "atomic_data"
   ]
  },
  {
   "cell_type": "code",
   "execution_count": 245,
   "id": "f72181a1",
   "metadata": {},
   "outputs": [],
   "source": [
    "from cace.modules import CosineCutoff, MollifierCutoff, PolynomialCutoff\n",
    "from cace.modules import BesselRBF, GaussianRBF, GaussianRBFCentered, ExponentialDecayRBF\n",
    "from cace.modules import EdgeEncoder"
   ]
  },
  {
   "cell_type": "code",
   "execution_count": 246,
   "id": "dac2341d",
   "metadata": {},
   "outputs": [],
   "source": [
    "edge_coding = EdgeEncoder(directed=True)\n",
    "#radial_basis = BesselRBF(cutoff=cutoff, n_rbf=4, trainable=False)\n",
    "radial_basis = ExponentialDecayRBF(n_rbf=4, cutoff=2, prefactor=1, trainable=True)\n",
    "cutoff_fn = CosineCutoff(cutoff=cutoff)"
   ]
  },
  {
   "cell_type": "code",
   "execution_count": 247,
   "id": "5315115f",
   "metadata": {},
   "outputs": [],
   "source": [
    "cace_representation = Cace(\n",
    "    zs=[1,8],\n",
    "    n_atom_basis=2,\n",
    "    edge_coding=edge_coding,\n",
    "    cutoff=cutoff,\n",
    "    cutoff_fn=cutoff_fn,\n",
    "    radial_basis=radial_basis,\n",
    "    max_l=4,\n",
    "    max_nu=4,\n",
    "    num_message_passing=2,\n",
    "    timeit=True\n",
    "           )"
   ]
  },
  {
   "cell_type": "code",
   "execution_count": 248,
   "id": "0bb89f44",
   "metadata": {},
   "outputs": [],
   "source": [
    "cace_representation.l_list"
   ]
  },
  {
   "cell_type": "code",
   "execution_count": 249,
   "id": "bb6082c1",
   "metadata": {},
   "outputs": [
    {
     "name": "stdout",
     "output_type": "stream",
     "text": [
      "node_one_hot time: 0.00031113624572753906\n",
      "node_embedded time: 0.0005676746368408203\n",
      "encoded_edges time: 0.0014290809631347656\n",
      "edge_vectors time: 0.0005381107330322266\n",
      "radial and angular component time: 0.0010600090026855469\n",
      "elementwise_multiply_3tensors time: 0.0005650520324707031\n",
      "radial_transform time: 0.003568887710571289\n",
      "scatter_sum time: 0.0007491111755371094\n",
      "symmetrizer time: 0.059903860092163086\n",
      "message passing time: 0.06686806678771973\n",
      "message passing time: 0.07671713829040527\n"
     ]
    },
    {
     "data": {
      "text/plain": [
       "AtomicData(edge_index=[2, 6], num_nodes=3, positions=[3, 3], shifts=[6, 3], unit_shifts=[6, 3], cell=[3, 3], atomic_numbers=[3], weight=1.0, energy_weight=1.0, forces_weight=1.0, stress_weight=1.0, virials_weight=1.0, forces=[3, 3], energy=-1.5, dipole=[1, 3], charges=[3], node_feat_B=[3, 4, 13, 4, 3])"
      ]
     },
     "execution_count": 249,
     "metadata": {},
     "output_type": "execute_result"
    }
   ],
   "source": [
    "cace_representation(atomic_data)"
   ]
  },
  {
   "cell_type": "code",
   "execution_count": 250,
   "id": "5d7a383a",
   "metadata": {},
   "outputs": [
    {
     "data": {
      "text/plain": [
       "tensor([[ 0.0452, -2.0200,  0.0452],\n",
       "        [ 1.0145,  0.0340,  0.0232],\n",
       "        [ 0.0111,  1.0410, -0.0100]])"
      ]
     },
     "execution_count": 250,
     "metadata": {},
     "output_type": "execute_result"
    }
   ],
   "source": [
    "atomic_data.positions"
   ]
  },
  {
   "cell_type": "code",
   "execution_count": 251,
   "id": "38bdd50c",
   "metadata": {},
   "outputs": [
    {
     "name": "stdout",
     "output_type": "stream",
     "text": [
      "node_one_hot time: 0.0002789497375488281\n",
      "node_embedded time: 0.0002601146697998047\n",
      "encoded_edges time: 0.0012738704681396484\n",
      "edge_vectors time: 0.00047206878662109375\n",
      "radial and angular component time: 0.0010080337524414062\n",
      "elementwise_multiply_3tensors time: 0.0006868839263916016\n",
      "radial_transform time: 0.002415180206298828\n",
      "scatter_sum time: 0.0003368854522705078\n",
      "symmetrizer time: 0.0652761459350586\n",
      "message passing time: 0.062361955642700195\n",
      "message passing time: 0.052996158599853516\n"
     ]
    },
    {
     "data": {
      "text/plain": [
       "AtomicData(edge_index=[2, 6], num_nodes=3, positions=[3, 3], shifts=[6, 3], unit_shifts=[6, 3], cell=[3, 3], atomic_numbers=[3], weight=1.0, energy_weight=1.0, forces_weight=1.0, stress_weight=1.0, virials_weight=1.0, forces=[3, 3], energy=-1.5, dipole=[1, 3], charges=[3], node_feat_B=[3, 4, 13, 4, 3])"
      ]
     },
     "execution_count": 251,
     "metadata": {},
     "output_type": "execute_result"
    }
   ],
   "source": [
    "cace_representation(atomic_data2)"
   ]
  },
  {
   "cell_type": "code",
   "execution_count": 252,
   "id": "d1a06202",
   "metadata": {},
   "outputs": [
    {
     "data": {
      "text/plain": [
       "tensor([[-1.8716, -0.6457,  0.4060],\n",
       "        [-0.3450,  0.9442, -0.1426],\n",
       "        [ 0.9496,  0.3621, -0.2259]])"
      ]
     },
     "execution_count": 252,
     "metadata": {},
     "output_type": "execute_result"
    }
   ],
   "source": [
    "atomic_data2.positions"
   ]
  },
  {
   "cell_type": "code",
   "execution_count": 253,
   "id": "8616e1fa",
   "metadata": {},
   "outputs": [],
   "source": [
    "features = atomic_data['node_feat_B']"
   ]
  },
  {
   "cell_type": "code",
   "execution_count": 254,
   "id": "12f11440",
   "metadata": {},
   "outputs": [],
   "source": [
    "features2 = atomic_data2['node_feat_B']"
   ]
  },
  {
   "cell_type": "code",
   "execution_count": 255,
   "id": "b7a74ced",
   "metadata": {},
   "outputs": [
    {
     "data": {
      "text/plain": [
       "True"
      ]
     },
     "execution_count": 255,
     "metadata": {},
     "output_type": "execute_result"
    }
   ],
   "source": [
    "torch.allclose(features, features2, rtol=1e-05, atol=1e-05)"
   ]
  },
  {
   "cell_type": "code",
   "execution_count": 256,
   "id": "1d980c0a",
   "metadata": {},
   "outputs": [
    {
     "data": {
      "text/plain": [
       "torch.Size([3, 4, 13, 4, 3])"
      ]
     },
     "execution_count": 256,
     "metadata": {},
     "output_type": "execute_result"
    }
   ],
   "source": [
    "atomic_data['node_feat_B'].shape"
   ]
  },
  {
   "cell_type": "code",
   "execution_count": 257,
   "id": "b96a6c2e",
   "metadata": {},
   "outputs": [],
   "source": [
    "#[n_nodes, radial_dim, angular_dim, embedding_dim, message_passing_layer]"
   ]
  },
  {
   "cell_type": "code",
   "execution_count": 258,
   "id": "d1ba9b4b",
   "metadata": {},
   "outputs": [
    {
     "data": {
      "text/plain": [
       "tensor([-1.0894e-02,  1.1522e-04,  1.1211e-04,  1.0932e-04,  1.0680e-04,\n",
       "        -1.2194e-06, -1.1873e-06, -1.1584e-06, -1.1567e-06,  1.2566e-08,\n",
       "         1.2250e-08,  1.2260e-08,  1.1938e-08], grad_fn=<SelectBackward0>)"
      ]
     },
     "execution_count": 258,
     "metadata": {},
     "output_type": "execute_result"
    }
   ],
   "source": [
    "features[0,1,:,0,0]"
   ]
  },
  {
   "cell_type": "code",
   "execution_count": 259,
   "id": "e9fd8917",
   "metadata": {},
   "outputs": [
    {
     "data": {
      "text/plain": [
       "tensor([6.8958e-02, 1.4369e-04, 6.8195e-03, 1.9604e-04, 7.1297e-03, 8.9827e-06,\n",
       "        1.0936e-05, 1.0730e-05, 5.5299e-04, 9.2028e-07, 9.2413e-07, 9.4158e-07,\n",
       "        1.1274e-06], grad_fn=<SelectBackward0>)"
      ]
     },
     "execution_count": 259,
     "metadata": {},
     "output_type": "execute_result"
    }
   ],
   "source": [
    "features[0,1,:,0,1]"
   ]
  },
  {
   "cell_type": "code",
   "execution_count": 260,
   "id": "a68bee24",
   "metadata": {},
   "outputs": [
    {
     "data": {
      "text/plain": [
       "tensor([1.9175e-01, 3.1308e-04, 4.5179e-02, 3.5143e-04, 4.6458e-02, 6.5051e-05,\n",
       "        6.8865e-05, 6.9550e-05, 9.5978e-03, 1.4619e-05, 1.4723e-05, 1.4811e-05,\n",
       "        1.5706e-05], grad_fn=<SelectBackward0>)"
      ]
     },
     "execution_count": 260,
     "metadata": {},
     "output_type": "execute_result"
    }
   ],
   "source": [
    "features[0,1,:,0,2]"
   ]
  },
  {
   "cell_type": "code",
   "execution_count": 261,
   "id": "fef68964",
   "metadata": {},
   "outputs": [
    {
     "data": {
      "text/plain": [
       "tensor([6.8958e-02, 1.4369e-04, 6.8195e-03, 1.9604e-04, 7.1297e-03, 8.9826e-06,\n",
       "        1.0936e-05, 1.0730e-05, 5.5299e-04, 9.2028e-07, 9.2412e-07, 9.4158e-07,\n",
       "        1.1274e-06], grad_fn=<SelectBackward0>)"
      ]
     },
     "execution_count": 261,
     "metadata": {},
     "output_type": "execute_result"
    }
   ],
   "source": [
    "features2[0,1,:,0,1]"
   ]
  },
  {
   "cell_type": "code",
   "execution_count": 262,
   "id": "01c0bea2",
   "metadata": {},
   "outputs": [
    {
     "data": {
      "text/plain": [
       "tensor([[0, 0, 1, 1, 2, 2],\n",
       "        [1, 2, 0, 2, 0, 1]])"
      ]
     },
     "execution_count": 262,
     "metadata": {},
     "output_type": "execute_result"
    }
   ],
   "source": [
    "atomic_data.edge_index"
   ]
  },
  {
   "cell_type": "code",
   "execution_count": null,
   "id": "ce3c36d6",
   "metadata": {},
   "outputs": [],
   "source": []
  }
 ],
 "metadata": {
  "kernelspec": {
   "display_name": "Python 3",
   "language": "python",
   "name": "python3"
  },
  "language_info": {
   "codemirror_mode": {
    "name": "ipython",
    "version": 3
   },
   "file_extension": ".py",
   "mimetype": "text/x-python",
   "name": "python",
   "nbconvert_exporter": "python",
   "pygments_lexer": "ipython3",
   "version": "3.7.7"
  }
 },
 "nbformat": 4,
 "nbformat_minor": 5
}
