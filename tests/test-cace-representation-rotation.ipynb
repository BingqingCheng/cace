{
 "cells": [
  {
   "cell_type": "code",
   "execution_count": 1,
   "id": "8e21a83f",
   "metadata": {},
   "outputs": [],
   "source": [
    "%load_ext autoreload\n",
    "%autoreload 2"
   ]
  },
  {
   "cell_type": "code",
   "execution_count": 2,
   "id": "6f361918",
   "metadata": {},
   "outputs": [],
   "source": [
    "import os\n",
    "os.environ['KMP_DUPLICATE_LIB_OK']='True'"
   ]
  },
  {
   "cell_type": "code",
   "execution_count": 3,
   "id": "7ab78b11",
   "metadata": {},
   "outputs": [],
   "source": [
    "import numpy as np\n",
    "import torch\n",
    "import torch.nn as nn"
   ]
  },
  {
   "cell_type": "code",
   "execution_count": 4,
   "id": "6c87d406",
   "metadata": {},
   "outputs": [],
   "source": [
    "import sys\n",
    "sys.path.append('../')"
   ]
  },
  {
   "cell_type": "code",
   "execution_count": 5,
   "id": "11273bc5",
   "metadata": {},
   "outputs": [],
   "source": [
    "import cace\n",
    "from cace import data"
   ]
  },
  {
   "cell_type": "code",
   "execution_count": 6,
   "id": "080d6fbd",
   "metadata": {},
   "outputs": [],
   "source": [
    "from scipy.spatial.transform import Rotation as R"
   ]
  },
  {
   "cell_type": "code",
   "execution_count": 7,
   "id": "810cd94b",
   "metadata": {},
   "outputs": [],
   "source": [
    "torch.set_default_dtype(torch.float64)"
   ]
  },
  {
   "cell_type": "code",
   "execution_count": 8,
   "id": "61e728d9",
   "metadata": {},
   "outputs": [],
   "source": [
    "config = data.Configuration(\n",
    "    atomic_numbers=np.array([8, 1, 1, 1]),\n",
    "    positions=np.array(\n",
    "        [\n",
    "            [0.0452, -2.02, 0.0452],\n",
    "            [1.0145, 0.034, 0.0232],\n",
    "            [0.0111, 1.041, -0.010],\n",
    "             [-0.0111, -0.041, 0.510],\n",
    "        ]\n",
    "    ),\n",
    "    forces=np.array(\n",
    "        [\n",
    "            [0.0, -1.3, 0.0],\n",
    "            [1.0, 0.2, 0.0],\n",
    "            [0.0, 1.1, 0.3],\n",
    "            [0.0, 1.1, 0.3],\n",
    "        ]\n",
    "    ),\n",
    "    energy=-1.5,\n",
    "    charges=np.array([-2.0, 1.0, 1.0, 0]),\n",
    "    dipole=np.array([-1.5, 1.5, 2.0]),\n",
    ")\n",
    "# Created the rotated environment\n",
    "rot = R.from_euler(\"z\", 70, degrees=True).as_matrix()\n",
    "positions_rotated = np.array(rot @ config.positions.T).T\n",
    "\n",
    "rot = R.from_euler(\"x\", 10.6, degrees=True).as_matrix()\n",
    "positions_rotated = np.array(rot @ positions_rotated.T).T\n",
    "\n",
    "rot = R.from_euler(\"y\", 190, degrees=True).as_matrix()\n",
    "positions_rotated = np.array(rot @ positions_rotated.T).T\n",
    "\n",
    "config_rotated = data.Configuration(\n",
    "    atomic_numbers=np.array([8, 1, 1, 1]),\n",
    "    positions=positions_rotated,\n",
    "    forces=np.array(\n",
    "        [\n",
    "            [0.0, -1.3, 0.0],\n",
    "            [1.0, 0.2, 0.0],\n",
    "            [0.0, 1.1, 0.3],\n",
    "            [0.0, 1.1, 0.3],\n",
    "        ]\n",
    "    ),\n",
    "    energy=-1.5,\n",
    "    charges=np.array([-2.0, 1.0, 1.0, 0]),\n",
    "    dipole=np.array([-1.5, 1.5, 2.0]),\n",
    ")\n"
   ]
  },
  {
   "cell_type": "code",
   "execution_count": 9,
   "id": "3aa4259a",
   "metadata": {},
   "outputs": [],
   "source": [
    "cutoff = 5.0"
   ]
  },
  {
   "cell_type": "code",
   "execution_count": 10,
   "id": "4d068011",
   "metadata": {},
   "outputs": [],
   "source": [
    "atomic_data = data.AtomicData.from_config(config, cutoff=cutoff)\n",
    "atomic_data2 = data.AtomicData.from_config(config_rotated, cutoff=cutoff)"
   ]
  },
  {
   "cell_type": "code",
   "execution_count": 11,
   "id": "d2f316e0",
   "metadata": {},
   "outputs": [
    {
     "data": {
      "text/plain": [
       "tensor([[ 0.0452, -2.0200,  0.0452],\n",
       "        [ 1.0145,  0.0340,  0.0232],\n",
       "        [ 0.0111,  1.0410, -0.0100],\n",
       "        [-0.0111, -0.0410,  0.5100]])"
      ]
     },
     "execution_count": 11,
     "metadata": {},
     "output_type": "execute_result"
    }
   ],
   "source": [
    "atomic_data.positions"
   ]
  },
  {
   "cell_type": "code",
   "execution_count": 12,
   "id": "02c3623d",
   "metadata": {},
   "outputs": [
    {
     "data": {
      "text/plain": [
       "tensor([[-1.8716, -0.6457,  0.4060],\n",
       "        [-0.3450,  0.9442, -0.1426],\n",
       "        [ 0.9496,  0.3621, -0.2259],\n",
       "        [-0.1205, -0.1179, -0.4832]])"
      ]
     },
     "execution_count": 12,
     "metadata": {},
     "output_type": "execute_result"
    }
   ],
   "source": [
    "atomic_data2.positions"
   ]
  },
  {
   "cell_type": "code",
   "execution_count": 13,
   "id": "cc49098a",
   "metadata": {},
   "outputs": [],
   "source": [
    "from cace.representations.cace_representation import Cace"
   ]
  },
  {
   "cell_type": "code",
   "execution_count": 14,
   "id": "5de73a93",
   "metadata": {},
   "outputs": [
    {
     "data": {
      "text/plain": [
       "AtomicData(atomic_numbers=[4], cell=[3, 3], charges=[4], dipole=[1, 3], edge_index=[2, 12], energy=-1.5, energy_weight=1.0, forces=[4, 3], forces_weight=1.0, positions=[4, 3], shifts=[12, 3], stress_weight=1.0, unit_shifts=[12, 3], virials_weight=1.0, weight=1.0)"
      ]
     },
     "execution_count": 14,
     "metadata": {},
     "output_type": "execute_result"
    }
   ],
   "source": [
    "atomic_data"
   ]
  },
  {
   "cell_type": "code",
   "execution_count": 15,
   "id": "6fdb68fe",
   "metadata": {},
   "outputs": [],
   "source": [
    "from cace.modules import CosineCutoff, MollifierCutoff, PolynomialCutoff\n",
    "from cace.modules import BesselRBF, GaussianRBF, GaussianRBFCentered, ExponentialDecayRBF"
   ]
  },
  {
   "cell_type": "code",
   "execution_count": 16,
   "id": "d9632c86",
   "metadata": {},
   "outputs": [],
   "source": [
    "radial_basis = BesselRBF(cutoff=cutoff, n_rbf=5, trainable=False)\n",
    "#radial_basis = ExponentialDecayRBF(n_rbf=4, cutoff=cutoff, prefactor=1, trainable=True)\n",
    "cutoff_fn = CosineCutoff(cutoff=cutoff)"
   ]
  },
  {
   "cell_type": "code",
   "execution_count": 17,
   "id": "a6f21fb8",
   "metadata": {},
   "outputs": [],
   "source": [
    "cace_representation = Cace(\n",
    "    zs=[1,8],\n",
    "    n_atom_basis=2,\n",
    "    cutoff=cutoff,\n",
    "    cutoff_fn=cutoff_fn,\n",
    "    radial_basis=radial_basis,\n",
    "    max_l=6,\n",
    "    max_nu=4,\n",
    "    num_message_passing=2,\n",
    "    timeit=True\n",
    "           )"
   ]
  },
  {
   "cell_type": "code",
   "execution_count": 18,
   "id": "e92da60c",
   "metadata": {},
   "outputs": [
    {
     "name": "stdout",
     "output_type": "stream",
     "text": [
      "node_one_hot time: 0.0028450489044189453\n",
      "node_embedded time: 0.0012078285217285156\n",
      "encoded_edges time: 0.0010211467742919922\n",
      "edge_vectors time: 0.0008630752563476562\n",
      "radial and angular component time: 0.0019729137420654297\n",
      "elementwise_multiply_3tensors time: 0.003393888473510742\n",
      "scatter_sum time: 0.016660213470458984\n",
      "radial_transform time: 0.0028228759765625\n",
      "symmetrizer time: 0.18505287170410156\n",
      "message passing time: 0.1920318603515625\n",
      "message passing time: 0.18765807151794434\n"
     ]
    }
   ],
   "source": [
    "cace_result = cace_representation(atomic_data)"
   ]
  },
  {
   "cell_type": "code",
   "execution_count": 19,
   "id": "32c0bdcb",
   "metadata": {},
   "outputs": [
    {
     "name": "stdout",
     "output_type": "stream",
     "text": [
      "node_one_hot time: 9.703636169433594e-05\n",
      "node_embedded time: 0.0001971721649169922\n",
      "encoded_edges time: 6.67572021484375e-05\n",
      "edge_vectors time: 4.601478576660156e-05\n",
      "radial and angular component time: 0.0005249977111816406\n",
      "elementwise_multiply_3tensors time: 0.002585887908935547\n",
      "scatter_sum time: 5.602836608886719e-05\n",
      "radial_transform time: 0.00040411949157714844\n",
      "symmetrizer time: 0.18598198890686035\n",
      "message passing time: 0.1862947940826416\n",
      "message passing time: 0.1874370574951172\n"
     ]
    }
   ],
   "source": [
    "cace_result2 = cace_representation(atomic_data2)"
   ]
  },
  {
   "cell_type": "code",
   "execution_count": 20,
   "id": "6a65daec",
   "metadata": {},
   "outputs": [],
   "source": [
    "features = cace_result['node_feats']"
   ]
  },
  {
   "cell_type": "code",
   "execution_count": 21,
   "id": "39e4436f",
   "metadata": {},
   "outputs": [],
   "source": [
    "features2 = cace_result2['node_feats']"
   ]
  },
  {
   "cell_type": "code",
   "execution_count": 22,
   "id": "55cfd8e5",
   "metadata": {},
   "outputs": [
    {
     "data": {
      "text/plain": [
       "True"
      ]
     },
     "execution_count": 22,
     "metadata": {},
     "output_type": "execute_result"
    }
   ],
   "source": [
    "torch.allclose(features, features2, rtol=1e-05, atol=1e-05)"
   ]
  },
  {
   "cell_type": "code",
   "execution_count": 23,
   "id": "582511b2",
   "metadata": {},
   "outputs": [
    {
     "data": {
      "text/plain": [
       "torch.Size([4, 5, 36, 4, 3])"
      ]
     },
     "execution_count": 23,
     "metadata": {},
     "output_type": "execute_result"
    }
   ],
   "source": [
    "features.shape"
   ]
  },
  {
   "cell_type": "code",
   "execution_count": 24,
   "id": "425f0a9e",
   "metadata": {},
   "outputs": [
    {
     "data": {
      "text/plain": [
       "tensor([ 6.4856e-02,  2.4586e-02,  7.7137e-03,  1.8188e-02,  6.4129e-03,\n",
       "         5.0591e-03,  2.4476e-03,  1.9887e-03, -1.5421e-03,  1.5007e-03,\n",
       "        -7.1045e-04,  4.2688e-04, -4.2294e-04, -7.4507e-04, -1.5998e-04,\n",
       "         3.8424e-04, -1.2107e-04,  1.1012e-04, -6.3107e-05,  3.9755e-05,\n",
       "         1.1552e-04,  1.7388e-04,  2.5857e-05, -5.9758e-05,  2.3023e-05,\n",
       "         3.8166e-05, -9.4524e-05,  4.4998e-05, -2.4850e-05,  4.4167e-05,\n",
       "         5.6871e-06, -2.6322e-05, -4.2208e-05,  1.3931e-05,  2.4055e-05,\n",
       "        -1.3016e-05], grad_fn=<SelectBackward0>)"
      ]
     },
     "execution_count": 24,
     "metadata": {},
     "output_type": "execute_result"
    }
   ],
   "source": [
    "features[0,2,:,0,0]"
   ]
  },
  {
   "cell_type": "code",
   "execution_count": 25,
   "id": "88a1895e",
   "metadata": {},
   "outputs": [
    {
     "data": {
      "text/plain": [
       "tensor([1.0186e-01, 6.2837e-04, 7.7271e-04, 9.2403e-04, 8.6461e-03, 2.4789e-04,\n",
       "        1.9048e-02, 1.3659e-05, 1.5787e-05, 4.3820e-05, 9.1601e-06, 2.8647e-05,\n",
       "        4.9899e-05, 7.3475e-06, 2.1580e-04, 6.7309e-05, 3.5177e-07, 9.6967e-07,\n",
       "        2.6066e-07, 5.2568e-07, 9.4985e-07, 2.3408e-07, 3.7018e-06, 2.4481e-07,\n",
       "        3.7749e-06, 6.5026e-07, 1.0861e-06, 4.2402e-07, 5.4014e-07, 2.9400e-07,\n",
       "        1.3626e-05, 7.3267e-07, 6.0503e-07, 1.6987e-06, 1.9980e-06, 5.1601e-07],\n",
       "       grad_fn=<SelectBackward0>)"
      ]
     },
     "execution_count": 25,
     "metadata": {},
     "output_type": "execute_result"
    }
   ],
   "source": [
    "features[0,1,:,0,1]"
   ]
  },
  {
   "cell_type": "code",
   "execution_count": 26,
   "id": "5f7d3b23",
   "metadata": {},
   "outputs": [
    {
     "data": {
      "text/plain": [
       "tensor([8.0173e-02, 3.6753e-05, 1.3638e-03, 1.4403e-04, 5.4463e-03, 5.1618e-05,\n",
       "        4.9542e-03, 9.9414e-07, 1.8730e-06, 4.0433e-06, 2.4111e-06, 1.6095e-06,\n",
       "        7.1048e-05, 1.9018e-06, 1.2551e-04, 5.4381e-06, 5.1122e-08, 1.0345e-07,\n",
       "        5.6573e-08, 4.2364e-08, 1.0637e-07, 4.8301e-09, 1.5224e-07, 6.2398e-08,\n",
       "        1.5803e-07, 4.6763e-08, 2.0548e-07, 1.1100e-07, 7.2424e-08, 1.2284e-07,\n",
       "        6.4900e-06, 8.3540e-08, 2.6921e-07, 1.5589e-07, 1.7261e-07, 1.0176e-07],\n",
       "       grad_fn=<SelectBackward0>)"
      ]
     },
     "execution_count": 26,
     "metadata": {},
     "output_type": "execute_result"
    }
   ],
   "source": [
    "features[0,1,:,0,2]"
   ]
  },
  {
   "cell_type": "code",
   "execution_count": 27,
   "id": "21467404",
   "metadata": {},
   "outputs": [
    {
     "data": {
      "text/plain": [
       "tensor([1.0186e-01, 6.2837e-04, 7.7271e-04, 9.2403e-04, 8.6461e-03, 2.4789e-04,\n",
       "        1.9048e-02, 1.3659e-05, 1.5787e-05, 4.3820e-05, 9.1601e-06, 2.8647e-05,\n",
       "        4.9899e-05, 7.3475e-06, 2.1580e-04, 6.7309e-05, 3.5177e-07, 9.6967e-07,\n",
       "        2.6066e-07, 5.2568e-07, 9.4985e-07, 2.3408e-07, 3.7018e-06, 2.4481e-07,\n",
       "        3.7749e-06, 6.5026e-07, 1.0861e-06, 4.2402e-07, 5.4014e-07, 2.9400e-07,\n",
       "        1.3626e-05, 7.3267e-07, 6.0503e-07, 1.6987e-06, 1.9980e-06, 5.1601e-07],\n",
       "       grad_fn=<SelectBackward0>)"
      ]
     },
     "execution_count": 27,
     "metadata": {},
     "output_type": "execute_result"
    }
   ],
   "source": [
    "features2[0,1,:,0,1]"
   ]
  },
  {
   "cell_type": "code",
   "execution_count": null,
   "id": "f8619177",
   "metadata": {},
   "outputs": [],
   "source": []
  }
 ],
 "metadata": {
  "kernelspec": {
   "display_name": "Python 3 (ipykernel)",
   "language": "python",
   "name": "python3"
  },
  "language_info": {
   "codemirror_mode": {
    "name": "ipython",
    "version": 3
   },
   "file_extension": ".py",
   "mimetype": "text/x-python",
   "name": "python",
   "nbconvert_exporter": "python",
   "pygments_lexer": "ipython3",
   "version": "3.8.16"
  }
 },
 "nbformat": 4,
 "nbformat_minor": 5
}
