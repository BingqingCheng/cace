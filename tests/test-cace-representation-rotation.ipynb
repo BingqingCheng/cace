{
 "cells": [
  {
   "cell_type": "code",
   "execution_count": null,
   "id": "8e21a83f",
   "metadata": {},
   "outputs": [],
   "source": [
    "%load_ext autoreload\n",
    "%autoreload 2"
   ]
  },
  {
   "cell_type": "code",
   "execution_count": null,
   "id": "6f361918",
   "metadata": {},
   "outputs": [],
   "source": [
    "import os\n",
    "os.environ['KMP_DUPLICATE_LIB_OK']='True'"
   ]
  },
  {
   "cell_type": "code",
   "execution_count": null,
   "id": "7ab78b11",
   "metadata": {},
   "outputs": [],
   "source": [
    "import numpy as np\n",
    "import torch\n",
    "import torch.nn as nn"
   ]
  },
  {
   "cell_type": "code",
   "execution_count": null,
   "id": "6c87d406",
   "metadata": {},
   "outputs": [],
   "source": [
    "import sys\n",
    "sys.path.append('../')"
   ]
  },
  {
   "cell_type": "code",
   "execution_count": null,
   "id": "11273bc5",
   "metadata": {},
   "outputs": [],
   "source": [
    "import cace\n",
    "from cace import data"
   ]
  },
  {
   "cell_type": "code",
   "execution_count": null,
   "id": "080d6fbd",
   "metadata": {},
   "outputs": [],
   "source": [
    "from scipy.spatial.transform import Rotation as R"
   ]
  },
  {
   "cell_type": "code",
   "execution_count": null,
   "id": "810cd94b",
   "metadata": {},
   "outputs": [],
   "source": [
    "torch.set_default_dtype(torch.float64)"
   ]
  },
  {
   "cell_type": "code",
   "execution_count": null,
   "id": "dc966daf",
   "metadata": {},
   "outputs": [],
   "source": [
    "from ase import Atoms"
   ]
  },
  {
   "cell_type": "code",
   "execution_count": null,
   "id": "61e728d9",
   "metadata": {},
   "outputs": [],
   "source": [
    "atom=Atoms(numbers=np.array([8, 1, 1, 1]),\n",
    "    positions=np.array(\n",
    "        [\n",
    "            [0.0452, -2.02, 0.0452],\n",
    "            [1.0145, 0.034, 0.0232],\n",
    "            [0.0111, 1.041, -0.010],\n",
    "             [-0.0111, -0.041, 0.510],\n",
    "        ]\n",
    "    ),\n",
    "     pbc=False)\n",
    "\n",
    "# Created the rotated environment\n",
    "rot = R.from_euler(\"z\", 70, degrees=True).as_matrix()\n",
    "positions_rotated = np.array(rot @ atom.positions.T).T\n",
    "\n",
    "rot = R.from_euler(\"x\", 10.6, degrees=True).as_matrix()\n",
    "positions_rotated = np.array(rot @ positions_rotated.T).T\n",
    "\n",
    "rot = R.from_euler(\"y\", 190, degrees=True).as_matrix()\n",
    "positions_rotated = np.array(rot @ positions_rotated.T).T\n",
    "\n",
    "atom_rotated=Atoms(numbers=np.array([8, 1, 1, 1]),\n",
    " positions=positions_rotated,\n",
    "     pbc=False)"
   ]
  },
  {
   "cell_type": "code",
   "execution_count": null,
   "id": "3aa4259a",
   "metadata": {},
   "outputs": [],
   "source": [
    "cutoff = 5.0"
   ]
  },
  {
   "cell_type": "code",
   "execution_count": null,
   "id": "4d068011",
   "metadata": {},
   "outputs": [],
   "source": [
    "atomic_data = data.AtomicData.from_atoms(atom, cutoff=cutoff)\n",
    "atomic_data2 = data.AtomicData.from_atoms(atom_rotated, cutoff=cutoff)"
   ]
  },
  {
   "cell_type": "code",
   "execution_count": null,
   "id": "d2f316e0",
   "metadata": {},
   "outputs": [],
   "source": [
    "atomic_data.positions"
   ]
  },
  {
   "cell_type": "code",
   "execution_count": null,
   "id": "02c3623d",
   "metadata": {},
   "outputs": [],
   "source": [
    "atomic_data2.positions"
   ]
  },
  {
   "cell_type": "code",
   "execution_count": null,
   "id": "cc49098a",
   "metadata": {},
   "outputs": [],
   "source": [
    "from cace.representations.cace_representation import Cace"
   ]
  },
  {
   "cell_type": "code",
   "execution_count": null,
   "id": "5de73a93",
   "metadata": {},
   "outputs": [],
   "source": [
    "atomic_data"
   ]
  },
  {
   "cell_type": "code",
   "execution_count": null,
   "id": "6fdb68fe",
   "metadata": {},
   "outputs": [],
   "source": [
    "from cace.modules import CosineCutoff, MollifierCutoff, PolynomialCutoff\n",
    "from cace.modules import BesselRBF, GaussianRBF, GaussianRBFCentered, ExponentialDecayRBF"
   ]
  },
  {
   "cell_type": "code",
   "execution_count": null,
   "id": "d9632c86",
   "metadata": {},
   "outputs": [],
   "source": [
    "radial_basis = BesselRBF(cutoff=cutoff, n_rbf=5, trainable=False)\n",
    "#radial_basis = ExponentialDecayRBF(n_rbf=4, cutoff=cutoff, prefactor=1, trainable=True)\n",
    "cutoff_fn = CosineCutoff(cutoff=cutoff)"
   ]
  },
  {
   "cell_type": "code",
   "execution_count": null,
   "id": "a6f21fb8",
   "metadata": {},
   "outputs": [],
   "source": [
    "cace_representation = Cace(\n",
    "    zs=[1,8],\n",
    "    n_atom_basis=2,\n",
    "    cutoff=cutoff,\n",
    "    cutoff_fn=cutoff_fn,\n",
    "    radial_basis=radial_basis,\n",
    "    max_l=6,\n",
    "    max_nu=4,\n",
    "    num_message_passing=2,\n",
    "    timeit=True\n",
    "           )"
   ]
  },
  {
   "cell_type": "code",
   "execution_count": null,
   "id": "e92da60c",
   "metadata": {},
   "outputs": [],
   "source": [
    "cace_result = cace_representation(atomic_data)"
   ]
  },
  {
   "cell_type": "code",
   "execution_count": null,
   "id": "32c0bdcb",
   "metadata": {},
   "outputs": [],
   "source": [
    "cace_result2 = cace_representation(atomic_data2)"
   ]
  },
  {
   "cell_type": "code",
   "execution_count": null,
   "id": "6a65daec",
   "metadata": {},
   "outputs": [],
   "source": [
    "features = cace_result['node_feats']"
   ]
  },
  {
   "cell_type": "code",
   "execution_count": null,
   "id": "39e4436f",
   "metadata": {},
   "outputs": [],
   "source": [
    "features2 = cace_result2['node_feats']"
   ]
  },
  {
   "cell_type": "code",
   "execution_count": null,
   "id": "55cfd8e5",
   "metadata": {},
   "outputs": [],
   "source": [
    "torch.allclose(features, features2, rtol=1e-05, atol=1e-05)"
   ]
  },
  {
   "cell_type": "code",
   "execution_count": null,
   "id": "582511b2",
   "metadata": {},
   "outputs": [],
   "source": [
    "features.shape"
   ]
  },
  {
   "cell_type": "code",
   "execution_count": null,
   "id": "425f0a9e",
   "metadata": {},
   "outputs": [],
   "source": [
    "features[0,2,:,0,0]"
   ]
  },
  {
   "cell_type": "code",
   "execution_count": null,
   "id": "88a1895e",
   "metadata": {},
   "outputs": [],
   "source": [
    "features[0,1,:,0,1]"
   ]
  },
  {
   "cell_type": "code",
   "execution_count": null,
   "id": "5f7d3b23",
   "metadata": {},
   "outputs": [],
   "source": [
    "features[0,1,:,0,2]"
   ]
  },
  {
   "cell_type": "code",
   "execution_count": null,
   "id": "21467404",
   "metadata": {},
   "outputs": [],
   "source": [
    "features2[0,1,:,0,1]"
   ]
  },
  {
   "cell_type": "code",
   "execution_count": null,
   "id": "f8619177",
   "metadata": {},
   "outputs": [],
   "source": []
  }
 ],
 "metadata": {
  "kernelspec": {
   "display_name": "Python 3 (ipykernel)",
   "language": "python",
   "name": "python3"
  },
  "language_info": {
   "codemirror_mode": {
    "name": "ipython",
    "version": 3
   },
   "file_extension": ".py",
   "mimetype": "text/x-python",
   "name": "python",
   "nbconvert_exporter": "python",
   "pygments_lexer": "ipython3",
   "version": "3.8.16"
  }
 },
 "nbformat": 4,
 "nbformat_minor": 5
}
