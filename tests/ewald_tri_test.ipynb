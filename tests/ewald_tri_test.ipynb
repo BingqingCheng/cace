{
 "cells": [
  {
   "cell_type": "code",
   "execution_count": 2,
   "metadata": {},
   "outputs": [],
   "source": [
    "import sys\n",
    "import torch\n",
    "sys.path.append('../')\n",
    "import cace"
   ]
  },
  {
   "cell_type": "markdown",
   "metadata": {},
   "source": [
    "### Model load"
   ]
  },
  {
   "cell_type": "code",
   "execution_count": 27,
   "metadata": {},
   "outputs": [
    {
     "name": "stderr",
     "output_type": "stream",
     "text": [
      "/var/folders/r_/08n4lh1d2_129d09d1b_scv80000gn/T/ipykernel_43347/836237146.py:1: FutureWarning: You are using `torch.load` with `weights_only=False` (the current default value), which uses the default pickle module implicitly. It is possible to construct malicious pickle data which will execute arbitrary code during unpickling (See https://github.com/pytorch/pytorch/blob/main/SECURITY.md#untrusted-models for more details). In a future release, the default value for `weights_only` will be flipped to `True`. This limits the functions that could be executed during unpickling. Arbitrary objects will no longer be allowed to be loaded via this mode unless they are explicitly allowlisted by the user via `torch.serialization.add_safe_globals`. We recommend you start setting `weights_only=True` for any use case where you don't have full control of the loaded file. Please open an issue on GitHub for any issues related to this experimental feature.\n",
      "  cace_nnp = torch.load('./CsPbBr_3_m0_lr.pth', map_location='cpu')\n"
     ]
    }
   ],
   "source": [
    "cace_nnp = torch.load('./CsPbBr_3_m0_lr.pth', map_location='cpu')\n",
    "cace_representation = cace_nnp.models[1].representation\n",
    "q_module=cace_nnp.models[1].output_modules[0]\n",
    "cutoff=cace_representation.cutoff"
   ]
  },
  {
   "cell_type": "markdown",
   "metadata": {},
   "source": [
    "### data preparation"
   ]
  },
  {
   "cell_type": "code",
   "execution_count": 41,
   "metadata": {},
   "outputs": [],
   "source": [
    "from cace.tools import torch_geometric\n",
    "from cace.data import AtomicData\n",
    "from ase.io import read\n",
    "\n",
    "def data_ready(atoms):\n",
    "    data = torch_geometric.dataloader.DataLoader(\n",
    "        dataset=[\n",
    "                AtomicData.from_atoms(\n",
    "                atoms, cutoff=cutoff\n",
    "                )\n",
    "        ],\n",
    "        batch_size=1,\n",
    "        shuffle=False,\n",
    "        drop_last=False,)\n",
    "    batch = next(iter(data))\n",
    "    dict = batch.to_dict()\n",
    "    return dict"
   ]
  },
  {
   "cell_type": "code",
   "execution_count": 69,
   "metadata": {},
   "outputs": [
    {
     "name": "stdout",
     "output_type": "stream",
     "text": [
      "check cubic cell\n",
      "[11.86 11.86 11.86 90.   90.   90.  ]\n",
      "check triclinic cell\n",
      "[11.86903086 11.88502143 11.79185929 92.1600353  87.6963706  92.42096124]\n",
      "check cubic-triclinic supercell\n",
      "[20.54212258 11.86       11.86       90.         54.73561032 54.73561032]\n"
     ]
    }
   ],
   "source": [
    "data = './CsPbBr_3.xyz' \n",
    "\n",
    "#cubic cell\n",
    "cubic = read(data, index=0)\n",
    "print('check cubic cell')\n",
    "print(cubic.get_cell_lengths_and_angles())\n",
    "cubic_dict = data_ready(cubic)\n",
    "cubic_rep = cace_representation(cubic_dict)\n",
    "cubic_q = q_module(cubic_rep)\n",
    "\n",
    "#triclininc cell\n",
    "tri = read(data, index=-1)\n",
    "print('check triclinic cell')\n",
    "print(tri.get_cell_lengths_and_angles())\n",
    "tri_dict = data_ready(tri)\n",
    "tri_rep = cace_representation(tri_dict)\n",
    "tri_q = q_module(tri_rep)\n",
    "\n",
    "#cubic-triclinic supercell\n",
    "from pymatgen.io.ase import AseAtomsAdaptor\n",
    "adaptor = AseAtomsAdaptor()\n",
    "s_cubic = adaptor.get_structure(cubic)\n",
    "s_tri = s_cubic.make_supercell([[1, 1, 1] , [0, 1, 0] , [0, 0, 1]])\n",
    "tri_cubic = AseAtomsAdaptor.get_atoms(s_tri)\n",
    "print('check cubic-triclinic supercell')\n",
    "print(tri_cubic.get_cell_lengths_and_angles())\n",
    "\n",
    "tri_c_dict = data_ready(tri_cubic)\n",
    "tri_c_rep = cace_representation(tri_c_dict)\n",
    "tric_q = q_module(tri_c_rep)"
   ]
  },
  {
   "cell_type": "code",
   "execution_count": 70,
   "metadata": {},
   "outputs": [],
   "source": [
    "ep = cace.modules.EwaldPotential(dl=2,\n",
    "                    sigma=1.0,\n",
    "                    \n",
    "                    feature_key='q',\n",
    "                    output_key='ewald_potential',\n",
    "                    remove_self_interaction=False,\n",
    "                    compute_field=True,\n",
    "                   aggregation_mode='sum')"
   ]
  },
  {
   "cell_type": "markdown",
   "metadata": {},
   "source": [
    "### single cell results"
   ]
  },
  {
   "cell_type": "code",
   "execution_count": 37,
   "metadata": {},
   "outputs": [],
   "source": [
    "result_cubic = ep(cubic_q)['ewald_potential']\n",
    "result_cubic_pot = ep(cubic_q)['q_field']"
   ]
  },
  {
   "cell_type": "code",
   "execution_count": 38,
   "metadata": {},
   "outputs": [
    {
     "name": "stdout",
     "output_type": "stream",
     "text": [
      "tensor([0.4710], grad_fn=<SumBackward1>)\n"
     ]
    }
   ],
   "source": [
    "print(result_cubic)"
   ]
  },
  {
   "cell_type": "code",
   "execution_count": 39,
   "metadata": {},
   "outputs": [],
   "source": [
    "result_tri = ep(tri_q)['ewald_potential']"
   ]
  },
  {
   "cell_type": "code",
   "execution_count": 40,
   "metadata": {},
   "outputs": [
    {
     "name": "stdout",
     "output_type": "stream",
     "text": [
      "tensor([0.4179], grad_fn=<SumBackward1>)\n"
     ]
    }
   ],
   "source": [
    "print(result_tri)"
   ]
  },
  {
   "cell_type": "code",
   "execution_count": 64,
   "metadata": {},
   "outputs": [],
   "source": [
    "result_tri_cub = ep(tric_q)['ewald_potential']\n",
    "result_tri_cub_pot = ep(tric_q)['q_field']"
   ]
  },
  {
   "cell_type": "code",
   "execution_count": 65,
   "metadata": {},
   "outputs": [
    {
     "name": "stdout",
     "output_type": "stream",
     "text": [
      "tensor([0.4710], grad_fn=<SumBackward1>)\n"
     ]
    }
   ],
   "source": [
    "print(result_tri_cub)"
   ]
  },
  {
   "cell_type": "code",
   "execution_count": 66,
   "metadata": {},
   "outputs": [
    {
     "name": "stdout",
     "output_type": "stream",
     "text": [
      "True\n",
      "True\n"
     ]
    }
   ],
   "source": [
    "print(torch.allclose(result_cubic, result_tri_cub, atol=1e-2))\n",
    "print(torch.allclose(result_cubic_pot, result_tri_cub_pot, atol=1e-5))"
   ]
  },
  {
   "cell_type": "markdown",
   "metadata": {},
   "source": [
    "### Extensive energy test"
   ]
  },
  {
   "cell_type": "code",
   "execution_count": null,
   "metadata": {},
   "outputs": [
    {
     "name": "stdout",
     "output_type": "stream",
     "text": [
      "[23.72 23.72 23.72 90.   90.   90.  ]\n",
      "tensor([0.4710], grad_fn=<SumBackward1>)\n",
      "tensor([8.0000], grad_fn=<DivBackward0>)\n"
     ]
    }
   ],
   "source": [
    "#cubic cell\n",
    "cubic_double = cubic.repeat((2, 2, 2))\n",
    "print(cubic_double.get_cell_lengths_and_angles())\n",
    "cubic_double_dict = data_ready(cubic_double)\n",
    "cubic_double_rep = cace_representation(cubic_double_dict)\n",
    "cubic_double_q = q_module(cubic_double_rep)\n",
    "\n",
    "result_cubic_2 = ep(cubic_double_q)['ewald_potential']\n",
    "\n",
    "print(result_cubic)\n",
    "print(result_cubic_2/result_cubic)"
   ]
  },
  {
   "cell_type": "code",
   "execution_count": 59,
   "metadata": {},
   "outputs": [
    {
     "name": "stdout",
     "output_type": "stream",
     "text": [
      "[23.73806172 23.77004285 23.58371858 92.1600353  87.6963706  92.42096124]\n",
      "tensor([0.4179], grad_fn=<SumBackward1>)\n",
      "tensor([8.0000], grad_fn=<DivBackward0>)\n"
     ]
    },
    {
     "name": "stderr",
     "output_type": "stream",
     "text": [
      "/opt/miniconda3/envs/torch/lib/python3.10/site-packages/ase/utils/__init__.py:62: FutureWarning: Please use atoms.cell.cellpar() instead\n",
      "  warnings.warn(warning)\n"
     ]
    }
   ],
   "source": [
    "#triclininc cell\n",
    "tri_double = tri.repeat((2, 2, 2))\n",
    "print(tri_double.get_cell_lengths_and_angles())\n",
    "tri_double_dict = data_ready(tri_double)\n",
    "tri_double_rep = cace_representation(tri_double_dict)\n",
    "tri_double_q = q_module(tri_double_rep)\n",
    "\n",
    "result_tri_2 = ep(tri_double_q)['ewald_potential']\n",
    "\n",
    "print(result_tri)\n",
    "print(result_tri_2/result_tri)"
   ]
  },
  {
   "cell_type": "code",
   "execution_count": 67,
   "metadata": {},
   "outputs": [
    {
     "name": "stdout",
     "output_type": "stream",
     "text": [
      "[41.08424516 23.72       23.72       90.         54.73561032 54.73561032]\n",
      "tensor([0.4710], grad_fn=<SumBackward1>)\n",
      "tensor([8.0000], grad_fn=<DivBackward0>)\n"
     ]
    }
   ],
   "source": [
    "#cubic-triclinic supercell\n",
    "tri_cubic_double = tri_cubic.repeat((2, 2, 2))\n",
    "print(tri_cubic_double.get_cell_lengths_and_angles())\n",
    "tri_cubic_double_dict = data_ready(tri_cubic_double)\n",
    "tri_cubic_double_rep = cace_representation(tri_cubic_double_dict)\n",
    "tri_cubic_double_q = q_module(tri_cubic_double_rep)\n",
    "\n",
    "result_tri_cub_2 = ep(tri_cubic_double_q)['ewald_potential']\n",
    "\n",
    "print(result_tri_cub)\n",
    "print(result_tri_cub_2/result_tri_cub)"
   ]
  }
 ],
 "metadata": {
  "kernelspec": {
   "display_name": "torch",
   "language": "python",
   "name": "python3"
  },
  "language_info": {
   "codemirror_mode": {
    "name": "ipython",
    "version": 3
   },
   "file_extension": ".py",
   "mimetype": "text/x-python",
   "name": "python",
   "nbconvert_exporter": "python",
   "pygments_lexer": "ipython3",
   "version": "3.10.15"
  }
 },
 "nbformat": 4,
 "nbformat_minor": 2
}
